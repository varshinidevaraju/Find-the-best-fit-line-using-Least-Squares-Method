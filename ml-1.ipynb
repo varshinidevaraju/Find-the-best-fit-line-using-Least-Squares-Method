{
 "cells": [
  {
   "cell_type": "code",
   "execution_count": 34,
   "id": "343828ef",
   "metadata": {},
   "outputs": [],
   "source": [
    "#NAME:VARSHINI D\n",
    "#REG NO:212223230234"
   ]
  },
  {
   "cell_type": "code",
   "execution_count": 35,
   "id": "6dd500e7",
   "metadata": {},
   "outputs": [],
   "source": [
    "import numpy as np\n",
    "import matplotlib.pyplot as plt"
   ]
  },
  {
   "cell_type": "code",
   "execution_count": 42,
   "id": "04502f2d",
   "metadata": {},
   "outputs": [
    {
     "name": "stdout",
     "output_type": "stream",
     "text": [
      "[8, 2, 11, 6, 5, 4, 12, 9, 6, 1]\n",
      "[3, 10, 3, 6, 8, 12, 1, 4, 9, 14]\n"
     ]
    }
   ],
   "source": [
    "#preprocessing input data\n",
    "X=np.array(eval(input()))\n",
    "Y=np.array(eval(input()))"
   ]
  },
  {
   "cell_type": "code",
   "execution_count": 43,
   "id": "8d7881f7",
   "metadata": {},
   "outputs": [],
   "source": [
    "#mean\n",
    "X_mean=np.mean(X)\n",
    "Y_mean=np.mean(Y)\n",
    "num=0\n",
    "denom=0"
   ]
  },
  {
   "cell_type": "code",
   "execution_count": 44,
   "id": "aaa4c62f",
   "metadata": {},
   "outputs": [],
   "source": [
    "#to find sum of (xi-x') and (yi-y') and (xi-x')^2\n",
    "for i in range(len(X)):\n",
    "    num+=(X[i]-X_mean)*(Y[i]-Y_mean)\n",
    "    denom+=(X[i]-X_mean)**2"
   ]
  },
  {
   "cell_type": "code",
   "execution_count": 45,
   "id": "b031dbba",
   "metadata": {},
   "outputs": [],
   "source": [
    "#calculate slope\n",
    "m=num/denom\n",
    "\n",
    "#calculate intercept\n",
    "b=Y_mean-m*X_mean"
   ]
  },
  {
   "cell_type": "code",
   "execution_count": 46,
   "id": "f4565e29",
   "metadata": {},
   "outputs": [
    {
     "name": "stdout",
     "output_type": "stream",
     "text": [
      "Slope:-1.1064189189189189\n",
      "Y-intercept:14.08108108108108\n",
      "[ 5.22972973 11.86824324  1.91047297  7.44256757  8.54898649  9.65540541\n",
      "  0.80405405  4.12331081  7.44256757 12.97466216]\n"
     ]
    }
   ],
   "source": [
    "print(\"Slope:{}\\nY-intercept:{}\".format(m,b))\n",
    "#line equation\n",
    "y_predicted=m*X+b\n",
    "print(y_predicted)\n"
   ]
  },
  {
   "cell_type": "code",
   "execution_count": 47,
   "id": "5d5a24bb",
   "metadata": {},
   "outputs": [
    {
     "data": {
      "image/png": "[encoded data removed]",
      "text/plain": [
       "<Figure size 640x480 with 1 Axes>"
      ]
     },
     "metadata": {},
     "output_type": "display_data"
    }
   ],
   "source": [
    "#to plot graph\n",
    "plt.scatter(X,Y)\n",
    "plt.plot(X,y_predicted,color='red')\n",
    "plt.show()"
   ]
  },
  {
   "cell_type": "code",
   "execution_count": null,
   "id": "4bc05b6c",
   "metadata": {},
   "outputs": [],
   "source": []
  }
 ],
 "metadata": {
  "kernelspec": {
   "display_name": "Python 3 (ipykernel)",
   "language": "python",
   "name": "python3"
  },
  "language_info": {
   "codemirror_mode": {
    "name": "ipython",
    "version": 3
   },
   "file_extension": ".py",
   "mimetype": "text/x-python",
   "name": "python",
   "nbconvert_exporter": "python",
   "pygments_lexer": "ipython3",
   "version": "3.11.3"
  }
 },
 "nbformat": 4,
 "nbformat_minor": 5
}
